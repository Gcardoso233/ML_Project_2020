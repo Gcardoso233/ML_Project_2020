{
 "cells": [
  {
   "cell_type": "markdown",
   "metadata": {},
   "source": [
    "# **1. Introduction** <a class=\"anchor\" id=\"1\"></a>"
   ]
  },
  {
   "cell_type": "markdown",
   "metadata": {},
   "source": [
    "## **1.2. Import packages**"
   ]
  },
  {
   "cell_type": "code",
   "execution_count": 35,
   "metadata": {},
   "outputs": [],
   "source": [
    "import sqlite3\n",
    "import os\n",
    "import pandas as pd\n",
    "import numpy as np\n",
    "import matplotlib.pyplot as plt\n",
    "import seaborn as sns\n",
    "from math import ceil\n",
    "from sklearn.preprocessing import MinMaxScaler, StandardScaler, OneHotEncoder\n",
    "from sklearn.model_selection import train_test_split\n",
    "from sklearn.linear_model import LogisticRegression\n",
    "from sklearn.metrics import confusion_matrix, accuracy_score, precision_score"
   ]
  },
  {
   "cell_type": "markdown",
   "metadata": {},
   "source": [
    "## **1.3. Import data**"
   ]
  },
  {
   "cell_type": "code",
   "execution_count": 3,
   "metadata": {},
   "outputs": [],
   "source": [
    "data = pd.read_excel(\"Project Material-20201019/Train.xlsx\")"
   ]
  },
  {
   "cell_type": "code",
   "execution_count": 4,
   "metadata": {},
   "outputs": [],
   "source": [
    "#   Group A -  The majority of the people (volunteers) were carefully chosen through an extensive selection process\n",
    "#   Group B -  More than 2500 people were payed to participate in the mission (those were people who have been considered \n",
    "#              by the state has essential people to have on an initial stage)\n",
    "#   Group C -  Around 1500 people payed to participate in the mission \n",
    "#             (those who were rejected in a selection process but entered by making a money offer)\n",
    "\n",
    "#probably relative to ticket price(GroupC) and money_received(GroupB) --> we need to check if the numbers are in order with info"
   ]
  },
  {
   "cell_type": "code",
   "execution_count": 5,
   "metadata": {
    "scrolled": true
   },
   "outputs": [
    {
     "data": {
      "text/html": [
       "<div>\n",
       "<style scoped>\n",
       "    .dataframe tbody tr th:only-of-type {\n",
       "        vertical-align: middle;\n",
       "    }\n",
       "\n",
       "    .dataframe tbody tr th {\n",
       "        vertical-align: top;\n",
       "    }\n",
       "\n",
       "    .dataframe thead th {\n",
       "        text-align: right;\n",
       "    }\n",
       "</style>\n",
       "<table border=\"1\" class=\"dataframe\">\n",
       "  <thead>\n",
       "    <tr style=\"text-align: right;\">\n",
       "      <th></th>\n",
       "      <th>CITIZEN_ID</th>\n",
       "      <th>Name</th>\n",
       "      <th>Birthday</th>\n",
       "      <th>Native Continent</th>\n",
       "      <th>Marital Status</th>\n",
       "      <th>Lives with</th>\n",
       "      <th>Base Area</th>\n",
       "      <th>Education Level</th>\n",
       "      <th>Years of Education</th>\n",
       "      <th>Employment Sector</th>\n",
       "      <th>Role</th>\n",
       "      <th>Working Hours per week</th>\n",
       "      <th>Money Received</th>\n",
       "      <th>Ticket Price</th>\n",
       "      <th>Income</th>\n",
       "    </tr>\n",
       "  </thead>\n",
       "  <tbody>\n",
       "    <tr>\n",
       "      <th>0</th>\n",
       "      <td>12486</td>\n",
       "      <td>Mr. Adam Glover</td>\n",
       "      <td>July 1,2003</td>\n",
       "      <td>Europe</td>\n",
       "      <td>Married</td>\n",
       "      <td>Wife</td>\n",
       "      <td>Northbury</td>\n",
       "      <td>High School + PostGraduation</td>\n",
       "      <td>13</td>\n",
       "      <td>Private Sector - Services</td>\n",
       "      <td>Repair &amp; constructions</td>\n",
       "      <td>40</td>\n",
       "      <td>0</td>\n",
       "      <td>2273</td>\n",
       "      <td>1</td>\n",
       "    </tr>\n",
       "    <tr>\n",
       "      <th>1</th>\n",
       "      <td>12487</td>\n",
       "      <td>Mr. Cameron McDonald</td>\n",
       "      <td>January 25,2006</td>\n",
       "      <td>Europe</td>\n",
       "      <td>Married</td>\n",
       "      <td>Wife</td>\n",
       "      <td>Northbury</td>\n",
       "      <td>Professional School</td>\n",
       "      <td>12</td>\n",
       "      <td>Public Sector - Others</td>\n",
       "      <td>Repair &amp; constructions</td>\n",
       "      <td>40</td>\n",
       "      <td>0</td>\n",
       "      <td>0</td>\n",
       "      <td>1</td>\n",
       "    </tr>\n",
       "    <tr>\n",
       "      <th>2</th>\n",
       "      <td>12488</td>\n",
       "      <td>Mr. Keith Davidson</td>\n",
       "      <td>May 10,2009</td>\n",
       "      <td>Europe</td>\n",
       "      <td>Married</td>\n",
       "      <td>Wife</td>\n",
       "      <td>Northbury</td>\n",
       "      <td>Professional School</td>\n",
       "      <td>12</td>\n",
       "      <td>Private Sector - Services</td>\n",
       "      <td>Sales</td>\n",
       "      <td>46</td>\n",
       "      <td>0</td>\n",
       "      <td>2321</td>\n",
       "      <td>1</td>\n",
       "    </tr>\n",
       "    <tr>\n",
       "      <th>3</th>\n",
       "      <td>12489</td>\n",
       "      <td>Mr. Alexander Gill</td>\n",
       "      <td>March 25,1985</td>\n",
       "      <td>Europe</td>\n",
       "      <td>Married</td>\n",
       "      <td>Wife</td>\n",
       "      <td>Northbury</td>\n",
       "      <td>High School - 2nd Cycle</td>\n",
       "      <td>11</td>\n",
       "      <td>Private Sector - Services</td>\n",
       "      <td>Security</td>\n",
       "      <td>37</td>\n",
       "      <td>5395</td>\n",
       "      <td>0</td>\n",
       "      <td>1</td>\n",
       "    </tr>\n",
       "    <tr>\n",
       "      <th>4</th>\n",
       "      <td>12490</td>\n",
       "      <td>Mr. Neil Piper</td>\n",
       "      <td>May 29,2015</td>\n",
       "      <td>Europe</td>\n",
       "      <td>Single</td>\n",
       "      <td>Other Family</td>\n",
       "      <td>Northbury</td>\n",
       "      <td>PhD</td>\n",
       "      <td>21</td>\n",
       "      <td>Self-Employed (Individual)</td>\n",
       "      <td>Professor</td>\n",
       "      <td>45</td>\n",
       "      <td>0</td>\n",
       "      <td>0</td>\n",
       "      <td>1</td>\n",
       "    </tr>\n",
       "  </tbody>\n",
       "</table>\n",
       "</div>"
      ],
      "text/plain": [
       "   CITIZEN_ID                  Name          Birthday Native Continent  \\\n",
       "0       12486       Mr. Adam Glover       July 1,2003           Europe   \n",
       "1       12487  Mr. Cameron McDonald   January 25,2006           Europe   \n",
       "2       12488    Mr. Keith Davidson       May 10,2009           Europe   \n",
       "3       12489    Mr. Alexander Gill     March 25,1985           Europe   \n",
       "4       12490        Mr. Neil Piper       May 29,2015           Europe   \n",
       "\n",
       "  Marital Status    Lives with  Base Area               Education Level  \\\n",
       "0        Married          Wife  Northbury  High School + PostGraduation   \n",
       "1        Married          Wife  Northbury           Professional School   \n",
       "2        Married          Wife  Northbury           Professional School   \n",
       "3        Married          Wife  Northbury       High School - 2nd Cycle   \n",
       "4         Single  Other Family  Northbury                           PhD   \n",
       "\n",
       "   Years of Education           Employment Sector                    Role  \\\n",
       "0                  13  Private Sector - Services   Repair & constructions   \n",
       "1                  12      Public Sector - Others  Repair & constructions   \n",
       "2                  12  Private Sector - Services                    Sales   \n",
       "3                  11  Private Sector - Services                 Security   \n",
       "4                  21  Self-Employed (Individual)               Professor   \n",
       "\n",
       "   Working Hours per week  Money Received  Ticket Price  Income  \n",
       "0                      40               0          2273       1  \n",
       "1                      40               0             0       1  \n",
       "2                      46               0          2321       1  \n",
       "3                      37            5395             0       1  \n",
       "4                      45               0             0       1  "
      ]
     },
     "execution_count": 5,
     "metadata": {},
     "output_type": "execute_result"
    }
   ],
   "source": [
    "data.head()"
   ]
  },
  {
   "cell_type": "markdown",
   "metadata": {},
   "source": [
    "# **2. Data preprocessing** <a class=\"anchor\" id=\"3\"></a>"
   ]
  },
  {
   "cell_type": "code",
   "execution_count": 6,
   "metadata": {},
   "outputs": [],
   "source": [
    "df = data.copy()\n",
    "#to make it easier to work with columns\n",
    "df.columns = df.columns.str.replace(' ', '_', regex=True)\n",
    "#converting column datatype to str to use string manipulation\n",
    "df['Name'] = df['Name'].astype(str)\n",
    "#first string before .\n",
    "df['Name_gender'] = df['Name'].str.split('.').str[0]\n",
    "#in order to dont miss out on anyone that hasnt a Mr or Mrs \n",
    "df['Name_gender'] = df['Name_gender'].replace(' ', '.', regex=True)\n",
    "df['Name_gender'] = df['Name_gender'].str.split('.').str[0]\n",
    "# 1 to female and 0 to male\n",
    "def binary_gender(x):\n",
    "    if str(x) == 'Mrs' or str(x) == 'Miss':\n",
    "        return 'Female'\n",
    "    else:\n",
    "        return 'Male'\n",
    "df['Name_gender'] = df['Name_gender'].apply(binary_gender)\n",
    "\n",
    "df.rename(columns = {'Name_gender':'Sex'}, inplace = True)"
   ]
  },
  {
   "cell_type": "code",
   "execution_count": 7,
   "metadata": {},
   "outputs": [],
   "source": [
    "#converting Birthday to years(int)\n",
    "df['Birthday'] = df['Birthday'].astype(str)\n",
    "df['Age'] = df['Birthday'].str.split(',').str[1]\n",
    "df['Age'] = df[\"Age\"].apply(lambda x : 2046 - int(x))"
   ]
  },
  {
   "cell_type": "code",
   "execution_count": 8,
   "metadata": {},
   "outputs": [],
   "source": [
    "# delete un-necessary columns\n",
    "del df['Name']\n",
    "del df['Birthday']\n",
    "del df['CITIZEN_ID']"
   ]
  },
  {
   "cell_type": "code",
   "execution_count": 9,
   "metadata": {},
   "outputs": [],
   "source": [
    "df = df[np.insert(df.columns[:-1].values, 0, df.columns[-1], axis=None)]"
   ]
  },
  {
   "cell_type": "code",
   "execution_count": 10,
   "metadata": {},
   "outputs": [],
   "source": [
    "# Lets combine education level into highest level of education\n",
    "edu_level = ['Middle School', 'High School', 'Professional School', 'Bachelors', 'Masters']\n",
    "for edu in edu_level:\n",
    "    mask = df['Education_Level'].str.contains(edu ,na = False)\n",
    "    df.loc[mask, 'Education_Level'] = df.loc[mask, 'Education_Level'].apply(lambda x: edu)"
   ]
  },
  {
   "cell_type": "code",
   "execution_count": 11,
   "metadata": {},
   "outputs": [],
   "source": [
    "#idk which way is better --> to group by public sector/private/self or by Employed/Unemployed\n",
    "def grouping_employment(x):\n",
    "    if str(x) == 'Private Sector - Services ' or str(x) == 'Private Sector - Others':\n",
    "        return 'Private Sector'\n",
    "    elif str(x) == 'Public Sector - Others' or str(x) == 'Public Sector - Government':\n",
    "        return 'Public Sector'\n",
    "    elif str(x) == 'Self-Employed (Individual)' or str(x) == 'Self-Employed (Company)':\n",
    "        return 'Self-Employed'\n",
    "    elif str(x) == 'Unemployed' or str(x) == 'Never Worked':\n",
    "        return 'Unemployed'\n",
    "    else:\n",
    "        return np.nan\n",
    "df['Employment_Sector'] = df['Employment_Sector'].apply(grouping_employment)"
   ]
  },
  {
   "cell_type": "markdown",
   "metadata": {},
   "source": [
    "## Missing values"
   ]
  },
  {
   "cell_type": "code",
   "execution_count": 12,
   "metadata": {},
   "outputs": [],
   "source": [
    "#for non metric features, replace '?' with NaN value to easily detect\n",
    "def converting_nan(x):\n",
    "    if str(x) == '?':\n",
    "        return np.nan\n",
    "    else:\n",
    "        return x\n",
    "df['Base_Area'] = df['Base_Area'].apply(converting_nan)\n",
    "df['Employment_Sector'] = df['Employment_Sector'].apply(converting_nan)\n",
    "df['Education_Level'] = df['Education_Level'].apply(converting_nan)\n",
    "df['Role'] = df['Role'].apply(converting_nan)"
   ]
  },
  {
   "cell_type": "code",
   "execution_count": 13,
   "metadata": {},
   "outputs": [],
   "source": [
    "# Fill NaN values in categorical features using mode\n",
    "contain_NA_feats = ['Base_Area', 'Employment_Sector', 'Role']\n",
    "modes = df[contain_NA_feats].mode().loc[0]\n",
    "df.fillna(modes,inplace = True)"
   ]
  },
  {
   "cell_type": "code",
   "execution_count": 14,
   "metadata": {},
   "outputs": [
    {
     "data": {
      "text/plain": [
       "Age                       0\n",
       "Native_Continent          0\n",
       "Marital_Status            0\n",
       "Lives_with                0\n",
       "Base_Area                 0\n",
       "Education_Level           0\n",
       "Years_of_Education        0\n",
       "Employment_Sector         0\n",
       "Role                      0\n",
       "Working_Hours_per_week    0\n",
       "Money_Received            0\n",
       "Ticket_Price              0\n",
       "Income                    0\n",
       "Sex                       0\n",
       "dtype: int64"
      ]
     },
     "execution_count": 14,
     "metadata": {},
     "output_type": "execute_result"
    }
   ],
   "source": [
    "df.isna().sum()"
   ]
  },
  {
   "cell_type": "markdown",
   "metadata": {},
   "source": [
    "## Separate numercial & categorical variables; independent & dependent variables"
   ]
  },
  {
   "cell_type": "code",
   "execution_count": 15,
   "metadata": {},
   "outputs": [],
   "source": [
    "# Separate Dependent & Independent feature:\n",
    "df_Y = df.loc[:,'Income']\n",
    "df_X = df.drop('Income', axis = 1)\n",
    "# indicate categorical & numbercial feature\n",
    "numercial = [feat for feat in df_X.columns if df_X[feat].dtype!='O']\n",
    "categorical = [feat for feat in df_X.columns if df_X[feat].dtype =='O']"
   ]
  },
  {
   "cell_type": "markdown",
   "metadata": {},
   "source": [
    "## Explore data by each predefined groups (A, B & C)"
   ]
  },
  {
   "cell_type": "code",
   "execution_count": 17,
   "metadata": {},
   "outputs": [],
   "source": [
    "#   Group A -  The majority of the people (volunteers) were carefully chosen through an extensive selection process\n",
    "#   Group B -  More than 2500 people were payed to participate in the mission (those were people who have been considered \n",
    "#              by the state has essential people to have on an initial stage)\n",
    "#   Group C -  Around 1500 people payed to participate in the mission \n",
    "#             (those who were rejected in a selection process but entered by making a money offer)\n",
    "\n",
    "#probably relative to ticket price(GroupC) and money_received(GroupB) --> we need to check if the numbers are in order with info\n",
    "\n",
    "# Separate data of group A & B & C\n",
    "data_groupA = df[(df['Money_Received'] == 0) & (df['Ticket_Price'] == 0)].drop(['Money_Received','Ticket_Price'],axis = 1)\n",
    "data_groupB = df[df['Money_Received'] != 0].drop('Ticket_Price',axis = 1)\n",
    "data_groupC = df[df['Ticket_Price'] != 0].drop('Money_Received', axis = 1)"
   ]
  },
  {
   "cell_type": "markdown",
   "metadata": {},
   "source": [
    "### Group A"
   ]
  },
  {
   "cell_type": "code",
   "execution_count": 18,
   "metadata": {},
   "outputs": [
    {
     "data": {
      "image/png": "[encoded data removed]",
      "text/plain": [
       "<Figure size 864x576 with 2 Axes>"
      ]
     },
     "metadata": {},
     "output_type": "display_data"
    }
   ],
   "source": [
    "sns.set(style=\"white\")\n",
    "\n",
    "# Compute the correlation matrix\n",
    "corr = data_groupA.corr() #Getting correlation of numerical variables\n",
    "\n",
    "# Generate a mask for the upper triangle\n",
    "mask = np.zeros_like(corr, dtype=np.bool) #Return an array of zeros (Falses) with the same shape and type as a given array\n",
    "mask[np.triu_indices_from(mask)] = True #The upper-triangle array is now composed by True values\n",
    "\n",
    "# Set up the matplotlib figure\n",
    "fig, ax = plt.subplots(figsize=(12, 8))\n",
    "\n",
    "# Generate a custom diverging colormap\n",
    "cmap = sns.diverging_palette(220, 10, as_cmap=True) #Make a diverging palette between two HUSL colors. Return a matplotlib colormap object.\n",
    "\n",
    "# Draw the heatmap with the mask and correct aspect ratio\n",
    "sns.heatmap(corr, mask=mask, cmap=cmap, center=0, square=True, linewidths=.5, ax=ax)\n",
    "\n",
    "# Layout\n",
    "plt.subplots_adjust(top=0.95)\n",
    "plt.suptitle(\"Correlation matrix\", fontsize=25)\n",
    "plt.yticks(rotation=0)\n",
    "\n",
    "\n",
    "plt.show()"
   ]
  },
  {
   "cell_type": "markdown",
   "metadata": {},
   "source": [
    "### Group B"
   ]
  },
  {
   "cell_type": "code",
   "execution_count": 19,
   "metadata": {},
   "outputs": [
    {
     "data": {
      "image/png": "[encoded data removed]",
      "text/plain": [
       "<Figure size 864x576 with 2 Axes>"
      ]
     },
     "metadata": {},
     "output_type": "display_data"
    }
   ],
   "source": [
    "sns.set(style=\"white\")\n",
    "\n",
    "# Compute the correlation matrix\n",
    "corr = data_groupB.corr() #Getting correlation of numerical variables\n",
    "\n",
    "# Generate a mask for the upper triangle\n",
    "mask = np.zeros_like(corr, dtype=np.bool) #Return an array of zeros (Falses) with the same shape and type as a given array\n",
    "mask[np.triu_indices_from(mask)] = True #The upper-triangle array is now composed by True values\n",
    "\n",
    "# Set up the matplotlib figure\n",
    "fig, ax = plt.subplots(figsize=(12, 8))\n",
    "\n",
    "# Generate a custom diverging colormap\n",
    "cmap = sns.diverging_palette(220, 10, as_cmap=True) #Make a diverging palette between two HUSL colors. Return a matplotlib colormap object.\n",
    "\n",
    "# Draw the heatmap with the mask and correct aspect ratio\n",
    "sns.heatmap(corr, mask=mask, cmap=cmap, center=0, square=True, linewidths=.5, ax=ax)\n",
    "\n",
    "# Layout\n",
    "plt.subplots_adjust(top=0.95)\n",
    "plt.suptitle(\"Correlation matrix\", fontsize=25)\n",
    "plt.yticks(rotation=0)\n",
    "\n",
    "\n",
    "plt.show()"
   ]
  },
  {
   "cell_type": "markdown",
   "metadata": {},
   "source": [
    "### Group C"
   ]
  },
  {
   "cell_type": "code",
   "execution_count": 20,
   "metadata": {},
   "outputs": [
    {
     "data": {
      "image/png": "[encoded data removed]",
      "text/plain": [
       "<Figure size 864x576 with 2 Axes>"
      ]
     },
     "metadata": {},
     "output_type": "display_data"
    }
   ],
   "source": [
    "sns.set(style=\"white\")\n",
    "\n",
    "# Compute the correlation matrix\n",
    "corr = data_groupC.corr() #Getting correlation of numerical variables\n",
    "\n",
    "# Generate a mask for the upper triangle\n",
    "mask = np.zeros_like(corr, dtype=np.bool) #Return an array of zeros (Falses) with the same shape and type as a given array\n",
    "mask[np.triu_indices_from(mask)] = True #The upper-triangle array is now composed by True values\n",
    "\n",
    "# Set up the matplotlib figure\n",
    "fig, ax = plt.subplots(figsize=(12, 8))\n",
    "\n",
    "# Generate a custom diverging colormap\n",
    "cmap = sns.diverging_palette(220, 10, as_cmap=True) #Make a diverging palette between two HUSL colors. Return a matplotlib colormap object.\n",
    "\n",
    "# Draw the heatmap with the mask and correct aspect ratio\n",
    "sns.heatmap(corr, mask=mask, cmap=cmap, center=0, square=True, linewidths=.5, ax=ax)\n",
    "\n",
    "# Layout\n",
    "plt.subplots_adjust(top=0.95)\n",
    "plt.suptitle(\"Correlation matrix\", fontsize=25)\n",
    "plt.yticks(rotation=0)\n",
    "\n",
    "\n",
    "plt.show()"
   ]
  },
  {
   "cell_type": "markdown",
   "metadata": {},
   "source": [
    "## Explore categorical variable"
   ]
  },
  {
   "cell_type": "code",
   "execution_count": 21,
   "metadata": {},
   "outputs": [
    {
     "data": {
      "text/plain": [
       "['Native_Continent',\n",
       " 'Marital_Status',\n",
       " 'Lives_with',\n",
       " 'Base_Area',\n",
       " 'Education_Level',\n",
       " 'Employment_Sector',\n",
       " 'Role',\n",
       " 'Sex']"
      ]
     },
     "execution_count": 21,
     "metadata": {},
     "output_type": "execute_result"
    }
   ],
   "source": [
    "categorical"
   ]
  },
  {
   "cell_type": "code",
   "execution_count": 22,
   "metadata": {},
   "outputs": [
    {
     "name": "stderr",
     "output_type": "stream",
     "text": [
      "<ipython-input-22-78693255c406>:13: UserWarning: This figure was using constrained_layout==True, but that is incompatible with subplots_adjust and or tight_layout: setting constrained_layout==False. \n",
      "  fig.subplots_adjust(hspace=1)\n"
     ]
    },
    {
     "data": {
      "image/png": "[encoded data removed]",
      "text/plain": [
       "<Figure size 1728x864 with 8 Axes>"
      ]
     },
     "metadata": {},
     "output_type": "display_data"
    }
   ],
   "source": [
    "# Plot transformed data\n",
    "sns.set()\n",
    "fig, axes = plt.subplots(2,4, constrained_layout=True, figsize=(24,12))\n",
    "\n",
    "fig.suptitle(\"Count plot for each categorical variables\\n\", fontsize=25)\n",
    "\n",
    "for col, ax in zip(df[categorical].columns, axes.flatten()):\n",
    "    sns.countplot(x=col, hue=\"Income\", data=df, palette=\"Set1\",ax=ax)\n",
    "    ax.tick_params(axis='x',labelsize = 'small', labelrotation=-45) \n",
    "    ax.set_title(col)\n",
    "    \n",
    "# Just appear labels on outside axes\n",
    "fig.subplots_adjust(hspace=1)\n",
    "plt.show()"
   ]
  },
  {
   "cell_type": "markdown",
   "metadata": {},
   "source": [
    "# **4. Modeling** <a class=\"anchor\" id=\"4\"></a>"
   ]
  },
  {
   "cell_type": "markdown",
   "metadata": {},
   "source": [
    "## Split data for modelling"
   ]
  },
  {
   "cell_type": "code",
   "execution_count": 23,
   "metadata": {},
   "outputs": [],
   "source": [
    "X_train, X_test, y_train, y_test = train_test_split(df_X, df_Y, test_size=0.3, stratify = df_Y, random_state=None)"
   ]
  },
  {
   "cell_type": "markdown",
   "metadata": {},
   "source": [
    "## Apply OneHotEncoder to categorical data:"
   ]
  },
  {
   "cell_type": "code",
   "execution_count": 24,
   "metadata": {},
   "outputs": [],
   "source": [
    "# Use OneHotEncoder to encode the categorical features. Get feature names and create a DataFrame \n",
    "# with the one-hot encoded categorical features (pass feature names)\n",
    "ohc = OneHotEncoder(sparse=False, drop=\"first\")\n",
    "ohc_feat = ohc.fit_transform(X_train[categorical])\n",
    "\n",
    "ohc_feat_names = ohc.get_feature_names()\n",
    "\n",
    "ohc_df = pd.DataFrame(ohc_feat, index=X_train.index, columns=ohc_feat_names)  # Why the index=df_ohc.index?\n",
    "\n",
    "# transfrom validation dataset\n",
    "ohc_feat_test = ohc.transform(X_test[categorical])\n",
    "ohc_df_test = pd.DataFrame(ohc_feat_test, index=X_test.index, columns=ohc_feat_names)"
   ]
  },
  {
   "cell_type": "markdown",
   "metadata": {},
   "source": [
    "## Apply Min-Max scaler to numbercial features:"
   ]
  },
  {
   "cell_type": "code",
   "execution_count": 25,
   "metadata": {},
   "outputs": [
    {
     "name": "stderr",
     "output_type": "stream",
     "text": [
      "<ipython-input-25-fd1428d31a71>:3: SettingWithCopyWarning: \n",
      "A value is trying to be set on a copy of a slice from a DataFrame.\n",
      "Try using .loc[row_indexer,col_indexer] = value instead\n",
      "\n",
      "See the caveats in the documentation: https://pandas.pydata.org/pandas-docs/stable/user_guide/indexing.html#returning-a-view-versus-a-copy\n",
      "  X_train[numercial] = scaler.fit_transform(X_train[numercial])\n",
      "C:\\Users\\Admin\\anaconda3\\envs\\ML_Lab\\lib\\site-packages\\pandas\\core\\indexing.py:1736: SettingWithCopyWarning: \n",
      "A value is trying to be set on a copy of a slice from a DataFrame.\n",
      "Try using .loc[row_indexer,col_indexer] = value instead\n",
      "\n",
      "See the caveats in the documentation: https://pandas.pydata.org/pandas-docs/stable/user_guide/indexing.html#returning-a-view-versus-a-copy\n",
      "  isetter(loc, value[:, i].tolist())\n",
      "<ipython-input-25-fd1428d31a71>:4: SettingWithCopyWarning: \n",
      "A value is trying to be set on a copy of a slice from a DataFrame.\n",
      "Try using .loc[row_indexer,col_indexer] = value instead\n",
      "\n",
      "See the caveats in the documentation: https://pandas.pydata.org/pandas-docs/stable/user_guide/indexing.html#returning-a-view-versus-a-copy\n",
      "  X_test[numercial] = scaler.transform(X_test[numercial])\n",
      "C:\\Users\\Admin\\anaconda3\\envs\\ML_Lab\\lib\\site-packages\\pandas\\core\\indexing.py:1736: SettingWithCopyWarning: \n",
      "A value is trying to be set on a copy of a slice from a DataFrame.\n",
      "Try using .loc[row_indexer,col_indexer] = value instead\n",
      "\n",
      "See the caveats in the documentation: https://pandas.pydata.org/pandas-docs/stable/user_guide/indexing.html#returning-a-view-versus-a-copy\n",
      "  isetter(loc, value[:, i].tolist())\n"
     ]
    },
    {
     "data": {
      "text/html": [
       "<div>\n",
       "<style scoped>\n",
       "    .dataframe tbody tr th:only-of-type {\n",
       "        vertical-align: middle;\n",
       "    }\n",
       "\n",
       "    .dataframe tbody tr th {\n",
       "        vertical-align: top;\n",
       "    }\n",
       "\n",
       "    .dataframe thead th {\n",
       "        text-align: right;\n",
       "    }\n",
       "</style>\n",
       "<table border=\"1\" class=\"dataframe\">\n",
       "  <thead>\n",
       "    <tr style=\"text-align: right;\">\n",
       "      <th></th>\n",
       "      <th>Age</th>\n",
       "      <th>Years_of_Education</th>\n",
       "      <th>Working_Hours_per_week</th>\n",
       "      <th>Money_Received</th>\n",
       "      <th>Ticket_Price</th>\n",
       "    </tr>\n",
       "  </thead>\n",
       "  <tbody>\n",
       "    <tr>\n",
       "      <th>12712</th>\n",
       "      <td>0.205479</td>\n",
       "      <td>0.315789</td>\n",
       "      <td>0.346939</td>\n",
       "      <td>0.000000</td>\n",
       "      <td>0.0</td>\n",
       "    </tr>\n",
       "    <tr>\n",
       "      <th>4922</th>\n",
       "      <td>0.410959</td>\n",
       "      <td>0.526316</td>\n",
       "      <td>0.704082</td>\n",
       "      <td>0.000000</td>\n",
       "      <td>0.0</td>\n",
       "    </tr>\n",
       "    <tr>\n",
       "      <th>6225</th>\n",
       "      <td>0.095890</td>\n",
       "      <td>0.578947</td>\n",
       "      <td>0.295918</td>\n",
       "      <td>0.000000</td>\n",
       "      <td>0.0</td>\n",
       "    </tr>\n",
       "    <tr>\n",
       "      <th>12136</th>\n",
       "      <td>0.136986</td>\n",
       "      <td>0.736842</td>\n",
       "      <td>0.397959</td>\n",
       "      <td>0.000000</td>\n",
       "      <td>0.0</td>\n",
       "    </tr>\n",
       "    <tr>\n",
       "      <th>21083</th>\n",
       "      <td>0.328767</td>\n",
       "      <td>0.578947</td>\n",
       "      <td>0.397959</td>\n",
       "      <td>0.072984</td>\n",
       "      <td>0.0</td>\n",
       "    </tr>\n",
       "  </tbody>\n",
       "</table>\n",
       "</div>"
      ],
      "text/plain": [
       "            Age  Years_of_Education  Working_Hours_per_week  Money_Received  \\\n",
       "12712  0.205479            0.315789                0.346939        0.000000   \n",
       "4922   0.410959            0.526316                0.704082        0.000000   \n",
       "6225   0.095890            0.578947                0.295918        0.000000   \n",
       "12136  0.136986            0.736842                0.397959        0.000000   \n",
       "21083  0.328767            0.578947                0.397959        0.072984   \n",
       "\n",
       "       Ticket_Price  \n",
       "12712           0.0  \n",
       "4922            0.0  \n",
       "6225            0.0  \n",
       "12136           0.0  \n",
       "21083           0.0  "
      ]
     },
     "execution_count": 25,
     "metadata": {},
     "output_type": "execute_result"
    }
   ],
   "source": [
    "# Use MinMaxScaler to scale the data\n",
    "scaler = MinMaxScaler()\n",
    "X_train[numercial] = scaler.fit_transform(X_train[numercial])\n",
    "X_test[numercial] = scaler.transform(X_test[numercial])\n",
    "X_train[numercial].head()"
   ]
  },
  {
   "cell_type": "code",
   "execution_count": 26,
   "metadata": {
    "scrolled": true
   },
   "outputs": [],
   "source": [
    "# Reassigning df to contain ohc variables\n",
    "X_train = pd.concat([X_train.drop(columns=categorical), ohc_df], axis=1)\n",
    "X_test = pd.concat([X_test.drop(columns=categorical), ohc_df_test], axis=1)"
   ]
  },
  {
   "cell_type": "code",
   "execution_count": 27,
   "metadata": {
    "scrolled": true
   },
   "outputs": [
    {
     "data": {
      "text/html": [
       "<div>\n",
       "<style scoped>\n",
       "    .dataframe tbody tr th:only-of-type {\n",
       "        vertical-align: middle;\n",
       "    }\n",
       "\n",
       "    .dataframe tbody tr th {\n",
       "        vertical-align: top;\n",
       "    }\n",
       "\n",
       "    .dataframe thead th {\n",
       "        text-align: right;\n",
       "    }\n",
       "</style>\n",
       "<table border=\"1\" class=\"dataframe\">\n",
       "  <thead>\n",
       "    <tr style=\"text-align: right;\">\n",
       "      <th></th>\n",
       "      <th>Age</th>\n",
       "      <th>Years_of_Education</th>\n",
       "      <th>Working_Hours_per_week</th>\n",
       "      <th>Money_Received</th>\n",
       "      <th>Ticket_Price</th>\n",
       "      <th>x0_America</th>\n",
       "      <th>x0_Asia</th>\n",
       "      <th>x0_Europe</th>\n",
       "      <th>x0_Oceania</th>\n",
       "      <th>x1_Married</th>\n",
       "      <th>...</th>\n",
       "      <th>x6_IT</th>\n",
       "      <th>x6_Machine Operators &amp; Inspectors</th>\n",
       "      <th>x6_Management</th>\n",
       "      <th>x6_Other services</th>\n",
       "      <th>x6_Professor</th>\n",
       "      <th>x6_Repair &amp; constructions</th>\n",
       "      <th>x6_Sales</th>\n",
       "      <th>x6_Security</th>\n",
       "      <th>x6_Transports</th>\n",
       "      <th>x7_Male</th>\n",
       "    </tr>\n",
       "  </thead>\n",
       "  <tbody>\n",
       "    <tr>\n",
       "      <th>12712</th>\n",
       "      <td>0.205479</td>\n",
       "      <td>0.315789</td>\n",
       "      <td>0.346939</td>\n",
       "      <td>0.000000</td>\n",
       "      <td>0.000000</td>\n",
       "      <td>0.0</td>\n",
       "      <td>0.0</td>\n",
       "      <td>1.0</td>\n",
       "      <td>0.0</td>\n",
       "      <td>0.0</td>\n",
       "      <td>...</td>\n",
       "      <td>0.0</td>\n",
       "      <td>0.0</td>\n",
       "      <td>0.0</td>\n",
       "      <td>0.0</td>\n",
       "      <td>0.0</td>\n",
       "      <td>0.0</td>\n",
       "      <td>1.0</td>\n",
       "      <td>0.0</td>\n",
       "      <td>0.0</td>\n",
       "      <td>0.0</td>\n",
       "    </tr>\n",
       "    <tr>\n",
       "      <th>4922</th>\n",
       "      <td>0.410959</td>\n",
       "      <td>0.526316</td>\n",
       "      <td>0.704082</td>\n",
       "      <td>0.000000</td>\n",
       "      <td>0.000000</td>\n",
       "      <td>0.0</td>\n",
       "      <td>0.0</td>\n",
       "      <td>1.0</td>\n",
       "      <td>0.0</td>\n",
       "      <td>1.0</td>\n",
       "      <td>...</td>\n",
       "      <td>0.0</td>\n",
       "      <td>0.0</td>\n",
       "      <td>0.0</td>\n",
       "      <td>0.0</td>\n",
       "      <td>0.0</td>\n",
       "      <td>0.0</td>\n",
       "      <td>0.0</td>\n",
       "      <td>0.0</td>\n",
       "      <td>0.0</td>\n",
       "      <td>1.0</td>\n",
       "    </tr>\n",
       "    <tr>\n",
       "      <th>6225</th>\n",
       "      <td>0.095890</td>\n",
       "      <td>0.578947</td>\n",
       "      <td>0.295918</td>\n",
       "      <td>0.000000</td>\n",
       "      <td>0.000000</td>\n",
       "      <td>0.0</td>\n",
       "      <td>1.0</td>\n",
       "      <td>0.0</td>\n",
       "      <td>0.0</td>\n",
       "      <td>0.0</td>\n",
       "      <td>...</td>\n",
       "      <td>0.0</td>\n",
       "      <td>0.0</td>\n",
       "      <td>0.0</td>\n",
       "      <td>0.0</td>\n",
       "      <td>1.0</td>\n",
       "      <td>0.0</td>\n",
       "      <td>0.0</td>\n",
       "      <td>0.0</td>\n",
       "      <td>0.0</td>\n",
       "      <td>1.0</td>\n",
       "    </tr>\n",
       "    <tr>\n",
       "      <th>12136</th>\n",
       "      <td>0.136986</td>\n",
       "      <td>0.736842</td>\n",
       "      <td>0.397959</td>\n",
       "      <td>0.000000</td>\n",
       "      <td>0.000000</td>\n",
       "      <td>0.0</td>\n",
       "      <td>0.0</td>\n",
       "      <td>1.0</td>\n",
       "      <td>0.0</td>\n",
       "      <td>1.0</td>\n",
       "      <td>...</td>\n",
       "      <td>0.0</td>\n",
       "      <td>0.0</td>\n",
       "      <td>1.0</td>\n",
       "      <td>0.0</td>\n",
       "      <td>0.0</td>\n",
       "      <td>0.0</td>\n",
       "      <td>0.0</td>\n",
       "      <td>0.0</td>\n",
       "      <td>0.0</td>\n",
       "      <td>1.0</td>\n",
       "    </tr>\n",
       "    <tr>\n",
       "      <th>21083</th>\n",
       "      <td>0.328767</td>\n",
       "      <td>0.578947</td>\n",
       "      <td>0.397959</td>\n",
       "      <td>0.072984</td>\n",
       "      <td>0.000000</td>\n",
       "      <td>0.0</td>\n",
       "      <td>0.0</td>\n",
       "      <td>1.0</td>\n",
       "      <td>0.0</td>\n",
       "      <td>1.0</td>\n",
       "      <td>...</td>\n",
       "      <td>0.0</td>\n",
       "      <td>0.0</td>\n",
       "      <td>0.0</td>\n",
       "      <td>0.0</td>\n",
       "      <td>0.0</td>\n",
       "      <td>0.0</td>\n",
       "      <td>0.0</td>\n",
       "      <td>0.0</td>\n",
       "      <td>1.0</td>\n",
       "      <td>0.0</td>\n",
       "    </tr>\n",
       "    <tr>\n",
       "      <th>...</th>\n",
       "      <td>...</td>\n",
       "      <td>...</td>\n",
       "      <td>...</td>\n",
       "      <td>...</td>\n",
       "      <td>...</td>\n",
       "      <td>...</td>\n",
       "      <td>...</td>\n",
       "      <td>...</td>\n",
       "      <td>...</td>\n",
       "      <td>...</td>\n",
       "      <td>...</td>\n",
       "      <td>...</td>\n",
       "      <td>...</td>\n",
       "      <td>...</td>\n",
       "      <td>...</td>\n",
       "      <td>...</td>\n",
       "      <td>...</td>\n",
       "      <td>...</td>\n",
       "      <td>...</td>\n",
       "      <td>...</td>\n",
       "      <td>...</td>\n",
       "    </tr>\n",
       "    <tr>\n",
       "      <th>11271</th>\n",
       "      <td>0.082192</td>\n",
       "      <td>0.789474</td>\n",
       "      <td>0.500000</td>\n",
       "      <td>0.000000</td>\n",
       "      <td>0.433184</td>\n",
       "      <td>0.0</td>\n",
       "      <td>1.0</td>\n",
       "      <td>0.0</td>\n",
       "      <td>0.0</td>\n",
       "      <td>1.0</td>\n",
       "      <td>...</td>\n",
       "      <td>0.0</td>\n",
       "      <td>0.0</td>\n",
       "      <td>0.0</td>\n",
       "      <td>0.0</td>\n",
       "      <td>1.0</td>\n",
       "      <td>0.0</td>\n",
       "      <td>0.0</td>\n",
       "      <td>0.0</td>\n",
       "      <td>0.0</td>\n",
       "      <td>1.0</td>\n",
       "    </tr>\n",
       "    <tr>\n",
       "      <th>19057</th>\n",
       "      <td>0.369863</td>\n",
       "      <td>0.368421</td>\n",
       "      <td>0.397959</td>\n",
       "      <td>0.000000</td>\n",
       "      <td>0.000000</td>\n",
       "      <td>0.0</td>\n",
       "      <td>0.0</td>\n",
       "      <td>0.0</td>\n",
       "      <td>0.0</td>\n",
       "      <td>0.0</td>\n",
       "      <td>...</td>\n",
       "      <td>0.0</td>\n",
       "      <td>0.0</td>\n",
       "      <td>0.0</td>\n",
       "      <td>1.0</td>\n",
       "      <td>0.0</td>\n",
       "      <td>0.0</td>\n",
       "      <td>0.0</td>\n",
       "      <td>0.0</td>\n",
       "      <td>0.0</td>\n",
       "      <td>0.0</td>\n",
       "    </tr>\n",
       "    <tr>\n",
       "      <th>12288</th>\n",
       "      <td>0.191781</td>\n",
       "      <td>0.736842</td>\n",
       "      <td>0.397959</td>\n",
       "      <td>0.000000</td>\n",
       "      <td>0.000000</td>\n",
       "      <td>0.0</td>\n",
       "      <td>0.0</td>\n",
       "      <td>1.0</td>\n",
       "      <td>0.0</td>\n",
       "      <td>1.0</td>\n",
       "      <td>...</td>\n",
       "      <td>0.0</td>\n",
       "      <td>0.0</td>\n",
       "      <td>0.0</td>\n",
       "      <td>0.0</td>\n",
       "      <td>0.0</td>\n",
       "      <td>0.0</td>\n",
       "      <td>1.0</td>\n",
       "      <td>0.0</td>\n",
       "      <td>0.0</td>\n",
       "      <td>1.0</td>\n",
       "    </tr>\n",
       "    <tr>\n",
       "      <th>13222</th>\n",
       "      <td>0.301370</td>\n",
       "      <td>0.684211</td>\n",
       "      <td>0.602041</td>\n",
       "      <td>0.076879</td>\n",
       "      <td>0.000000</td>\n",
       "      <td>0.0</td>\n",
       "      <td>0.0</td>\n",
       "      <td>1.0</td>\n",
       "      <td>0.0</td>\n",
       "      <td>1.0</td>\n",
       "      <td>...</td>\n",
       "      <td>0.0</td>\n",
       "      <td>0.0</td>\n",
       "      <td>0.0</td>\n",
       "      <td>0.0</td>\n",
       "      <td>0.0</td>\n",
       "      <td>1.0</td>\n",
       "      <td>0.0</td>\n",
       "      <td>0.0</td>\n",
       "      <td>0.0</td>\n",
       "      <td>1.0</td>\n",
       "    </tr>\n",
       "    <tr>\n",
       "      <th>4227</th>\n",
       "      <td>0.164384</td>\n",
       "      <td>0.736842</td>\n",
       "      <td>0.500000</td>\n",
       "      <td>0.000000</td>\n",
       "      <td>0.000000</td>\n",
       "      <td>0.0</td>\n",
       "      <td>0.0</td>\n",
       "      <td>1.0</td>\n",
       "      <td>0.0</td>\n",
       "      <td>0.0</td>\n",
       "      <td>...</td>\n",
       "      <td>0.0</td>\n",
       "      <td>0.0</td>\n",
       "      <td>0.0</td>\n",
       "      <td>0.0</td>\n",
       "      <td>0.0</td>\n",
       "      <td>0.0</td>\n",
       "      <td>0.0</td>\n",
       "      <td>0.0</td>\n",
       "      <td>0.0</td>\n",
       "      <td>1.0</td>\n",
       "    </tr>\n",
       "  </tbody>\n",
       "</table>\n",
       "<p>15680 rows × 82 columns</p>\n",
       "</div>"
      ],
      "text/plain": [
       "            Age  Years_of_Education  Working_Hours_per_week  Money_Received  \\\n",
       "12712  0.205479            0.315789                0.346939        0.000000   \n",
       "4922   0.410959            0.526316                0.704082        0.000000   \n",
       "6225   0.095890            0.578947                0.295918        0.000000   \n",
       "12136  0.136986            0.736842                0.397959        0.000000   \n",
       "21083  0.328767            0.578947                0.397959        0.072984   \n",
       "...         ...                 ...                     ...             ...   \n",
       "11271  0.082192            0.789474                0.500000        0.000000   \n",
       "19057  0.369863            0.368421                0.397959        0.000000   \n",
       "12288  0.191781            0.736842                0.397959        0.000000   \n",
       "13222  0.301370            0.684211                0.602041        0.076879   \n",
       "4227   0.164384            0.736842                0.500000        0.000000   \n",
       "\n",
       "       Ticket_Price  x0_America  x0_Asia  x0_Europe  x0_Oceania  x1_Married  \\\n",
       "12712      0.000000         0.0      0.0        1.0         0.0         0.0   \n",
       "4922       0.000000         0.0      0.0        1.0         0.0         1.0   \n",
       "6225       0.000000         0.0      1.0        0.0         0.0         0.0   \n",
       "12136      0.000000         0.0      0.0        1.0         0.0         1.0   \n",
       "21083      0.000000         0.0      0.0        1.0         0.0         1.0   \n",
       "...             ...         ...      ...        ...         ...         ...   \n",
       "11271      0.433184         0.0      1.0        0.0         0.0         1.0   \n",
       "19057      0.000000         0.0      0.0        0.0         0.0         0.0   \n",
       "12288      0.000000         0.0      0.0        1.0         0.0         1.0   \n",
       "13222      0.000000         0.0      0.0        1.0         0.0         1.0   \n",
       "4227       0.000000         0.0      0.0        1.0         0.0         0.0   \n",
       "\n",
       "       ...  x6_IT  x6_Machine Operators & Inspectors  x6_Management  \\\n",
       "12712  ...    0.0                                0.0            0.0   \n",
       "4922   ...    0.0                                0.0            0.0   \n",
       "6225   ...    0.0                                0.0            0.0   \n",
       "12136  ...    0.0                                0.0            1.0   \n",
       "21083  ...    0.0                                0.0            0.0   \n",
       "...    ...    ...                                ...            ...   \n",
       "11271  ...    0.0                                0.0            0.0   \n",
       "19057  ...    0.0                                0.0            0.0   \n",
       "12288  ...    0.0                                0.0            0.0   \n",
       "13222  ...    0.0                                0.0            0.0   \n",
       "4227   ...    0.0                                0.0            0.0   \n",
       "\n",
       "       x6_Other services  x6_Professor  x6_Repair & constructions  x6_Sales  \\\n",
       "12712                0.0           0.0                        0.0       1.0   \n",
       "4922                 0.0           0.0                        0.0       0.0   \n",
       "6225                 0.0           1.0                        0.0       0.0   \n",
       "12136                0.0           0.0                        0.0       0.0   \n",
       "21083                0.0           0.0                        0.0       0.0   \n",
       "...                  ...           ...                        ...       ...   \n",
       "11271                0.0           1.0                        0.0       0.0   \n",
       "19057                1.0           0.0                        0.0       0.0   \n",
       "12288                0.0           0.0                        0.0       1.0   \n",
       "13222                0.0           0.0                        1.0       0.0   \n",
       "4227                 0.0           0.0                        0.0       0.0   \n",
       "\n",
       "       x6_Security  x6_Transports  x7_Male  \n",
       "12712          0.0            0.0      0.0  \n",
       "4922           0.0            0.0      1.0  \n",
       "6225           0.0            0.0      1.0  \n",
       "12136          0.0            0.0      1.0  \n",
       "21083          0.0            1.0      0.0  \n",
       "...            ...            ...      ...  \n",
       "11271          0.0            0.0      1.0  \n",
       "19057          0.0            0.0      0.0  \n",
       "12288          0.0            0.0      1.0  \n",
       "13222          0.0            0.0      1.0  \n",
       "4227           0.0            0.0      1.0  \n",
       "\n",
       "[15680 rows x 82 columns]"
      ]
     },
     "execution_count": 27,
     "metadata": {},
     "output_type": "execute_result"
    }
   ],
   "source": [
    "X_train"
   ]
  },
  {
   "cell_type": "code",
   "execution_count": 28,
   "metadata": {},
   "outputs": [
    {
     "data": {
      "text/html": [
       "<div>\n",
       "<style scoped>\n",
       "    .dataframe tbody tr th:only-of-type {\n",
       "        vertical-align: middle;\n",
       "    }\n",
       "\n",
       "    .dataframe tbody tr th {\n",
       "        vertical-align: top;\n",
       "    }\n",
       "\n",
       "    .dataframe thead th {\n",
       "        text-align: right;\n",
       "    }\n",
       "</style>\n",
       "<table border=\"1\" class=\"dataframe\">\n",
       "  <thead>\n",
       "    <tr style=\"text-align: right;\">\n",
       "      <th></th>\n",
       "      <th>Age</th>\n",
       "      <th>Years_of_Education</th>\n",
       "      <th>Working_Hours_per_week</th>\n",
       "      <th>Money_Received</th>\n",
       "      <th>Ticket_Price</th>\n",
       "      <th>x0_America</th>\n",
       "      <th>x0_Asia</th>\n",
       "      <th>x0_Europe</th>\n",
       "      <th>x0_Oceania</th>\n",
       "      <th>x1_Married</th>\n",
       "      <th>...</th>\n",
       "      <th>x6_IT</th>\n",
       "      <th>x6_Machine Operators &amp; Inspectors</th>\n",
       "      <th>x6_Management</th>\n",
       "      <th>x6_Other services</th>\n",
       "      <th>x6_Professor</th>\n",
       "      <th>x6_Repair &amp; constructions</th>\n",
       "      <th>x6_Sales</th>\n",
       "      <th>x6_Security</th>\n",
       "      <th>x6_Transports</th>\n",
       "      <th>x7_Male</th>\n",
       "    </tr>\n",
       "  </thead>\n",
       "  <tbody>\n",
       "    <tr>\n",
       "      <th>22131</th>\n",
       "      <td>0.191781</td>\n",
       "      <td>0.578947</td>\n",
       "      <td>0.448980</td>\n",
       "      <td>0.0</td>\n",
       "      <td>0.0</td>\n",
       "      <td>0.0</td>\n",
       "      <td>0.0</td>\n",
       "      <td>1.0</td>\n",
       "      <td>0.0</td>\n",
       "      <td>0.0</td>\n",
       "      <td>...</td>\n",
       "      <td>0.0</td>\n",
       "      <td>0.0</td>\n",
       "      <td>1.0</td>\n",
       "      <td>0.0</td>\n",
       "      <td>0.0</td>\n",
       "      <td>0.0</td>\n",
       "      <td>0.0</td>\n",
       "      <td>0.0</td>\n",
       "      <td>0.0</td>\n",
       "      <td>1.0</td>\n",
       "    </tr>\n",
       "    <tr>\n",
       "      <th>21520</th>\n",
       "      <td>0.369863</td>\n",
       "      <td>0.789474</td>\n",
       "      <td>0.397959</td>\n",
       "      <td>0.0</td>\n",
       "      <td>0.0</td>\n",
       "      <td>0.0</td>\n",
       "      <td>0.0</td>\n",
       "      <td>1.0</td>\n",
       "      <td>0.0</td>\n",
       "      <td>1.0</td>\n",
       "      <td>...</td>\n",
       "      <td>0.0</td>\n",
       "      <td>0.0</td>\n",
       "      <td>0.0</td>\n",
       "      <td>0.0</td>\n",
       "      <td>1.0</td>\n",
       "      <td>0.0</td>\n",
       "      <td>0.0</td>\n",
       "      <td>0.0</td>\n",
       "      <td>0.0</td>\n",
       "      <td>1.0</td>\n",
       "    </tr>\n",
       "    <tr>\n",
       "      <th>21494</th>\n",
       "      <td>0.082192</td>\n",
       "      <td>0.578947</td>\n",
       "      <td>0.397959</td>\n",
       "      <td>0.0</td>\n",
       "      <td>0.0</td>\n",
       "      <td>0.0</td>\n",
       "      <td>0.0</td>\n",
       "      <td>1.0</td>\n",
       "      <td>0.0</td>\n",
       "      <td>0.0</td>\n",
       "      <td>...</td>\n",
       "      <td>0.0</td>\n",
       "      <td>0.0</td>\n",
       "      <td>0.0</td>\n",
       "      <td>0.0</td>\n",
       "      <td>0.0</td>\n",
       "      <td>1.0</td>\n",
       "      <td>0.0</td>\n",
       "      <td>0.0</td>\n",
       "      <td>0.0</td>\n",
       "      <td>1.0</td>\n",
       "    </tr>\n",
       "    <tr>\n",
       "      <th>2146</th>\n",
       "      <td>0.547945</td>\n",
       "      <td>0.578947</td>\n",
       "      <td>0.500000</td>\n",
       "      <td>0.0</td>\n",
       "      <td>0.0</td>\n",
       "      <td>0.0</td>\n",
       "      <td>0.0</td>\n",
       "      <td>1.0</td>\n",
       "      <td>0.0</td>\n",
       "      <td>0.0</td>\n",
       "      <td>...</td>\n",
       "      <td>0.0</td>\n",
       "      <td>0.0</td>\n",
       "      <td>1.0</td>\n",
       "      <td>0.0</td>\n",
       "      <td>0.0</td>\n",
       "      <td>0.0</td>\n",
       "      <td>0.0</td>\n",
       "      <td>0.0</td>\n",
       "      <td>0.0</td>\n",
       "      <td>0.0</td>\n",
       "    </tr>\n",
       "    <tr>\n",
       "      <th>20099</th>\n",
       "      <td>0.493151</td>\n",
       "      <td>0.578947</td>\n",
       "      <td>0.397959</td>\n",
       "      <td>0.0</td>\n",
       "      <td>0.0</td>\n",
       "      <td>0.0</td>\n",
       "      <td>0.0</td>\n",
       "      <td>0.0</td>\n",
       "      <td>0.0</td>\n",
       "      <td>0.0</td>\n",
       "      <td>...</td>\n",
       "      <td>0.0</td>\n",
       "      <td>0.0</td>\n",
       "      <td>0.0</td>\n",
       "      <td>0.0</td>\n",
       "      <td>0.0</td>\n",
       "      <td>0.0</td>\n",
       "      <td>0.0</td>\n",
       "      <td>0.0</td>\n",
       "      <td>0.0</td>\n",
       "      <td>0.0</td>\n",
       "    </tr>\n",
       "    <tr>\n",
       "      <th>...</th>\n",
       "      <td>...</td>\n",
       "      <td>...</td>\n",
       "      <td>...</td>\n",
       "      <td>...</td>\n",
       "      <td>...</td>\n",
       "      <td>...</td>\n",
       "      <td>...</td>\n",
       "      <td>...</td>\n",
       "      <td>...</td>\n",
       "      <td>...</td>\n",
       "      <td>...</td>\n",
       "      <td>...</td>\n",
       "      <td>...</td>\n",
       "      <td>...</td>\n",
       "      <td>...</td>\n",
       "      <td>...</td>\n",
       "      <td>...</td>\n",
       "      <td>...</td>\n",
       "      <td>...</td>\n",
       "      <td>...</td>\n",
       "      <td>...</td>\n",
       "    </tr>\n",
       "    <tr>\n",
       "      <th>17207</th>\n",
       "      <td>0.178082</td>\n",
       "      <td>0.736842</td>\n",
       "      <td>0.397959</td>\n",
       "      <td>0.0</td>\n",
       "      <td>0.0</td>\n",
       "      <td>0.0</td>\n",
       "      <td>0.0</td>\n",
       "      <td>1.0</td>\n",
       "      <td>0.0</td>\n",
       "      <td>0.0</td>\n",
       "      <td>...</td>\n",
       "      <td>0.0</td>\n",
       "      <td>1.0</td>\n",
       "      <td>0.0</td>\n",
       "      <td>0.0</td>\n",
       "      <td>0.0</td>\n",
       "      <td>0.0</td>\n",
       "      <td>0.0</td>\n",
       "      <td>0.0</td>\n",
       "      <td>0.0</td>\n",
       "      <td>0.0</td>\n",
       "    </tr>\n",
       "    <tr>\n",
       "      <th>12374</th>\n",
       "      <td>0.123288</td>\n",
       "      <td>0.736842</td>\n",
       "      <td>0.448980</td>\n",
       "      <td>0.0</td>\n",
       "      <td>0.0</td>\n",
       "      <td>0.0</td>\n",
       "      <td>0.0</td>\n",
       "      <td>1.0</td>\n",
       "      <td>0.0</td>\n",
       "      <td>0.0</td>\n",
       "      <td>...</td>\n",
       "      <td>0.0</td>\n",
       "      <td>0.0</td>\n",
       "      <td>0.0</td>\n",
       "      <td>0.0</td>\n",
       "      <td>1.0</td>\n",
       "      <td>0.0</td>\n",
       "      <td>0.0</td>\n",
       "      <td>0.0</td>\n",
       "      <td>0.0</td>\n",
       "      <td>0.0</td>\n",
       "    </tr>\n",
       "    <tr>\n",
       "      <th>21305</th>\n",
       "      <td>0.232877</td>\n",
       "      <td>0.736842</td>\n",
       "      <td>0.397959</td>\n",
       "      <td>0.0</td>\n",
       "      <td>0.0</td>\n",
       "      <td>0.0</td>\n",
       "      <td>0.0</td>\n",
       "      <td>1.0</td>\n",
       "      <td>0.0</td>\n",
       "      <td>1.0</td>\n",
       "      <td>...</td>\n",
       "      <td>0.0</td>\n",
       "      <td>0.0</td>\n",
       "      <td>0.0</td>\n",
       "      <td>0.0</td>\n",
       "      <td>1.0</td>\n",
       "      <td>0.0</td>\n",
       "      <td>0.0</td>\n",
       "      <td>0.0</td>\n",
       "      <td>0.0</td>\n",
       "      <td>0.0</td>\n",
       "    </tr>\n",
       "    <tr>\n",
       "      <th>14391</th>\n",
       "      <td>0.013699</td>\n",
       "      <td>0.526316</td>\n",
       "      <td>0.295918</td>\n",
       "      <td>0.0</td>\n",
       "      <td>0.0</td>\n",
       "      <td>0.0</td>\n",
       "      <td>0.0</td>\n",
       "      <td>1.0</td>\n",
       "      <td>0.0</td>\n",
       "      <td>0.0</td>\n",
       "      <td>...</td>\n",
       "      <td>0.0</td>\n",
       "      <td>0.0</td>\n",
       "      <td>0.0</td>\n",
       "      <td>0.0</td>\n",
       "      <td>0.0</td>\n",
       "      <td>0.0</td>\n",
       "      <td>0.0</td>\n",
       "      <td>0.0</td>\n",
       "      <td>0.0</td>\n",
       "      <td>0.0</td>\n",
       "    </tr>\n",
       "    <tr>\n",
       "      <th>21289</th>\n",
       "      <td>0.246575</td>\n",
       "      <td>0.578947</td>\n",
       "      <td>0.397959</td>\n",
       "      <td>0.0</td>\n",
       "      <td>0.0</td>\n",
       "      <td>0.0</td>\n",
       "      <td>0.0</td>\n",
       "      <td>1.0</td>\n",
       "      <td>0.0</td>\n",
       "      <td>0.0</td>\n",
       "      <td>...</td>\n",
       "      <td>0.0</td>\n",
       "      <td>0.0</td>\n",
       "      <td>1.0</td>\n",
       "      <td>0.0</td>\n",
       "      <td>0.0</td>\n",
       "      <td>0.0</td>\n",
       "      <td>0.0</td>\n",
       "      <td>0.0</td>\n",
       "      <td>0.0</td>\n",
       "      <td>0.0</td>\n",
       "    </tr>\n",
       "  </tbody>\n",
       "</table>\n",
       "<p>6720 rows × 82 columns</p>\n",
       "</div>"
      ],
      "text/plain": [
       "            Age  Years_of_Education  Working_Hours_per_week  Money_Received  \\\n",
       "22131  0.191781            0.578947                0.448980             0.0   \n",
       "21520  0.369863            0.789474                0.397959             0.0   \n",
       "21494  0.082192            0.578947                0.397959             0.0   \n",
       "2146   0.547945            0.578947                0.500000             0.0   \n",
       "20099  0.493151            0.578947                0.397959             0.0   \n",
       "...         ...                 ...                     ...             ...   \n",
       "17207  0.178082            0.736842                0.397959             0.0   \n",
       "12374  0.123288            0.736842                0.448980             0.0   \n",
       "21305  0.232877            0.736842                0.397959             0.0   \n",
       "14391  0.013699            0.526316                0.295918             0.0   \n",
       "21289  0.246575            0.578947                0.397959             0.0   \n",
       "\n",
       "       Ticket_Price  x0_America  x0_Asia  x0_Europe  x0_Oceania  x1_Married  \\\n",
       "22131           0.0         0.0      0.0        1.0         0.0         0.0   \n",
       "21520           0.0         0.0      0.0        1.0         0.0         1.0   \n",
       "21494           0.0         0.0      0.0        1.0         0.0         0.0   \n",
       "2146            0.0         0.0      0.0        1.0         0.0         0.0   \n",
       "20099           0.0         0.0      0.0        0.0         0.0         0.0   \n",
       "...             ...         ...      ...        ...         ...         ...   \n",
       "17207           0.0         0.0      0.0        1.0         0.0         0.0   \n",
       "12374           0.0         0.0      0.0        1.0         0.0         0.0   \n",
       "21305           0.0         0.0      0.0        1.0         0.0         1.0   \n",
       "14391           0.0         0.0      0.0        1.0         0.0         0.0   \n",
       "21289           0.0         0.0      0.0        1.0         0.0         0.0   \n",
       "\n",
       "       ...  x6_IT  x6_Machine Operators & Inspectors  x6_Management  \\\n",
       "22131  ...    0.0                                0.0            1.0   \n",
       "21520  ...    0.0                                0.0            0.0   \n",
       "21494  ...    0.0                                0.0            0.0   \n",
       "2146   ...    0.0                                0.0            1.0   \n",
       "20099  ...    0.0                                0.0            0.0   \n",
       "...    ...    ...                                ...            ...   \n",
       "17207  ...    0.0                                1.0            0.0   \n",
       "12374  ...    0.0                                0.0            0.0   \n",
       "21305  ...    0.0                                0.0            0.0   \n",
       "14391  ...    0.0                                0.0            0.0   \n",
       "21289  ...    0.0                                0.0            1.0   \n",
       "\n",
       "       x6_Other services  x6_Professor  x6_Repair & constructions  x6_Sales  \\\n",
       "22131                0.0           0.0                        0.0       0.0   \n",
       "21520                0.0           1.0                        0.0       0.0   \n",
       "21494                0.0           0.0                        1.0       0.0   \n",
       "2146                 0.0           0.0                        0.0       0.0   \n",
       "20099                0.0           0.0                        0.0       0.0   \n",
       "...                  ...           ...                        ...       ...   \n",
       "17207                0.0           0.0                        0.0       0.0   \n",
       "12374                0.0           1.0                        0.0       0.0   \n",
       "21305                0.0           1.0                        0.0       0.0   \n",
       "14391                0.0           0.0                        0.0       0.0   \n",
       "21289                0.0           0.0                        0.0       0.0   \n",
       "\n",
       "       x6_Security  x6_Transports  x7_Male  \n",
       "22131          0.0            0.0      1.0  \n",
       "21520          0.0            0.0      1.0  \n",
       "21494          0.0            0.0      1.0  \n",
       "2146           0.0            0.0      0.0  \n",
       "20099          0.0            0.0      0.0  \n",
       "...            ...            ...      ...  \n",
       "17207          0.0            0.0      0.0  \n",
       "12374          0.0            0.0      0.0  \n",
       "21305          0.0            0.0      0.0  \n",
       "14391          0.0            0.0      0.0  \n",
       "21289          0.0            0.0      0.0  \n",
       "\n",
       "[6720 rows x 82 columns]"
      ]
     },
     "execution_count": 28,
     "metadata": {},
     "output_type": "execute_result"
    }
   ],
   "source": [
    "X_test"
   ]
  },
  {
   "cell_type": "code",
   "execution_count": 30,
   "metadata": {
    "scrolled": true
   },
   "outputs": [
    {
     "name": "stderr",
     "output_type": "stream",
     "text": [
      "C:\\Users\\Admin\\anaconda3\\envs\\ML_Lab\\lib\\site-packages\\sklearn\\linear_model\\_logistic.py:762: ConvergenceWarning: lbfgs failed to converge (status=1):\n",
      "STOP: TOTAL NO. of ITERATIONS REACHED LIMIT.\n",
      "\n",
      "Increase the number of iterations (max_iter) or scale the data as shown in:\n",
      "    https://scikit-learn.org/stable/modules/preprocessing.html\n",
      "Please also refer to the documentation for alternative solver options:\n",
      "    https://scikit-learn.org/stable/modules/linear_model.html#logistic-regression\n",
      "  n_iter_i = _check_optimize_result(\n"
     ]
    },
    {
     "data": {
      "text/plain": [
       "LogisticRegression()"
      ]
     },
     "execution_count": 30,
     "metadata": {},
     "output_type": "execute_result"
    }
   ],
   "source": [
    "log_model = LogisticRegression()\n",
    "log_model.fit(X_train,y_train)"
   ]
  },
  {
   "cell_type": "markdown",
   "metadata": {},
   "source": [
    "### Measure the accuracy of train set"
   ]
  },
  {
   "cell_type": "code",
   "execution_count": 31,
   "metadata": {},
   "outputs": [],
   "source": [
    "y_train_predicted = log_model.predict(X_train)"
   ]
  },
  {
   "cell_type": "code",
   "execution_count": 32,
   "metadata": {},
   "outputs": [
    {
     "data": {
      "text/plain": [
       "array([[11168,   794],\n",
       "       [ 1603,  2115]], dtype=int64)"
      ]
     },
     "execution_count": 32,
     "metadata": {},
     "output_type": "execute_result"
    }
   ],
   "source": [
    "confusion_matrix(y_train, y_train_predicted)"
   ]
  },
  {
   "cell_type": "code",
   "execution_count": 36,
   "metadata": {},
   "outputs": [
    {
     "data": {
      "text/plain": [
       "0.8471301020408163"
      ]
     },
     "execution_count": 36,
     "metadata": {},
     "output_type": "execute_result"
    }
   ],
   "source": [
    "accuracy_score(y_train, y_train_predicted)"
   ]
  },
  {
   "cell_type": "code",
   "execution_count": 37,
   "metadata": {},
   "outputs": [
    {
     "data": {
      "text/plain": [
       "0.7270539704365762"
      ]
     },
     "execution_count": 37,
     "metadata": {},
     "output_type": "execute_result"
    }
   ],
   "source": [
    "precision_score(y_train, y_train_predicted)"
   ]
  },
  {
   "cell_type": "markdown",
   "metadata": {},
   "source": [
    "### Measure the accuracy of test set"
   ]
  },
  {
   "cell_type": "code",
   "execution_count": 38,
   "metadata": {},
   "outputs": [],
   "source": [
    "y_predicted = log_model.predict(X_test)"
   ]
  },
  {
   "cell_type": "code",
   "execution_count": 39,
   "metadata": {
    "scrolled": true
   },
   "outputs": [
    {
     "data": {
      "text/plain": [
       "array([[4803,  324],\n",
       "       [ 718,  875]], dtype=int64)"
      ]
     },
     "execution_count": 39,
     "metadata": {},
     "output_type": "execute_result"
    }
   ],
   "source": [
    "confusion_matrix(y_test, y_predicted)"
   ]
  },
  {
   "cell_type": "code",
   "execution_count": 40,
   "metadata": {},
   "outputs": [],
   "source": [
    "from sklearn.metrics import accuracy_score\n",
    "from sklearn.metrics import precision_score"
   ]
  },
  {
   "cell_type": "code",
   "execution_count": 41,
   "metadata": {},
   "outputs": [
    {
     "data": {
      "text/plain": [
       "0.8449404761904762"
      ]
     },
     "execution_count": 41,
     "metadata": {},
     "output_type": "execute_result"
    }
   ],
   "source": [
    "accuracy_score(y_test, y_predicted)"
   ]
  },
  {
   "cell_type": "code",
   "execution_count": 42,
   "metadata": {},
   "outputs": [
    {
     "data": {
      "text/plain": [
       "0.7297748123436196"
      ]
     },
     "execution_count": 42,
     "metadata": {},
     "output_type": "execute_result"
    }
   ],
   "source": [
    "precision_score(y_test, y_predicted)"
   ]
  },
  {
   "cell_type": "code",
   "execution_count": null,
   "metadata": {},
   "outputs": [],
   "source": []
  },
  {
   "cell_type": "code",
   "execution_count": null,
   "metadata": {},
   "outputs": [],
   "source": []
  }
 ],
 "metadata": {
  "kernelspec": {
   "display_name": "Python 3",
   "language": "python",
   "name": "python3"
  },
  "language_info": {
   "codemirror_mode": {
    "name": "ipython",
    "version": 3
   },
   "file_extension": ".py",
   "mimetype": "text/x-python",
   "name": "python",
   "nbconvert_exporter": "python",
   "pygments_lexer": "ipython3",
   "version": "3.8.5"
  }
 },
 "nbformat": 4,
 "nbformat_minor": 2
}
